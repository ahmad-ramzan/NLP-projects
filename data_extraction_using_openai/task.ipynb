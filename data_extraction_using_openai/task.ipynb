{
  "cells": [
    {
      "cell_type": "code",
      "source": [
        "!pip install openai"
      ],
      "metadata": {
        "colab": {
          "base_uri": "https://localhost:8080/"
        },
        "id": "jhKgy2s2cl-g",
        "outputId": "12a9fafb-00e8-4a43-eb58-70e6bb638e2a"
      },
      "execution_count": 12,
      "outputs": [
        {
          "output_type": "stream",
          "name": "stdout",
          "text": [
            "Requirement already satisfied: openai in /usr/local/lib/python3.11/dist-packages (1.72.0)\n",
            "Requirement already satisfied: anyio<5,>=3.5.0 in /usr/local/lib/python3.11/dist-packages (from openai) (4.9.0)\n",
            "Requirement already satisfied: distro<2,>=1.7.0 in /usr/local/lib/python3.11/dist-packages (from openai) (1.9.0)\n",
            "Requirement already satisfied: httpx<1,>=0.23.0 in /usr/local/lib/python3.11/dist-packages (from openai) (0.28.1)\n",
            "Requirement already satisfied: jiter<1,>=0.4.0 in /usr/local/lib/python3.11/dist-packages (from openai) (0.9.0)\n",
            "Requirement already satisfied: pydantic<3,>=1.9.0 in /usr/local/lib/python3.11/dist-packages (from openai) (2.11.3)\n",
            "Requirement already satisfied: sniffio in /usr/local/lib/python3.11/dist-packages (from openai) (1.3.1)\n",
            "Requirement already satisfied: tqdm>4 in /usr/local/lib/python3.11/dist-packages (from openai) (4.67.1)\n",
            "Requirement already satisfied: typing-extensions<5,>=4.11 in /usr/local/lib/python3.11/dist-packages (from openai) (4.13.1)\n",
            "Requirement already satisfied: idna>=2.8 in /usr/local/lib/python3.11/dist-packages (from anyio<5,>=3.5.0->openai) (3.10)\n",
            "Requirement already satisfied: certifi in /usr/local/lib/python3.11/dist-packages (from httpx<1,>=0.23.0->openai) (2025.1.31)\n",
            "Requirement already satisfied: httpcore==1.* in /usr/local/lib/python3.11/dist-packages (from httpx<1,>=0.23.0->openai) (1.0.7)\n",
            "Requirement already satisfied: h11<0.15,>=0.13 in /usr/local/lib/python3.11/dist-packages (from httpcore==1.*->httpx<1,>=0.23.0->openai) (0.14.0)\n",
            "Requirement already satisfied: annotated-types>=0.6.0 in /usr/local/lib/python3.11/dist-packages (from pydantic<3,>=1.9.0->openai) (0.7.0)\n",
            "Requirement already satisfied: pydantic-core==2.33.1 in /usr/local/lib/python3.11/dist-packages (from pydantic<3,>=1.9.0->openai) (2.33.1)\n",
            "Requirement already satisfied: typing-inspection>=0.4.0 in /usr/local/lib/python3.11/dist-packages (from pydantic<3,>=1.9.0->openai) (0.4.0)\n"
          ]
        }
      ]
    },
    {
      "cell_type": "code",
      "source": [
        "OPENAI_API = \"your_openai_api_key\""
      ],
      "metadata": {
        "id": "1QYY6bdlWlEU"
      },
      "execution_count": 9,
      "outputs": []
    },
    {
      "cell_type": "code",
      "source": [
        "import openai\n",
        "\n",
        "# Create the OpenAI client (for v1.x)\n",
        "client = openai.OpenAI(api_key=OPENAI_API)\n",
        "\n",
        "# Your medical prompt\n",
        "def get_prompt_medical():\n",
        "    return (\n",
        "        \"You are a professional medical assistant. Analyze the following medical notes or symptoms, \"\n",
        "        \"identify potential conditions or diagnoses, and provide clear medical insight or recommendations.\\n\\n\"\n",
        "    )\n",
        "\n",
        "text = \"\"\"\n",
        "Patient reports chest tightness, shortness of breath, and elevated heart rate. Past medical history includes hypertension and mild asthma.\n",
        "\"\"\"\n",
        "\n",
        "prompt = get_prompt_medical() + text\n",
        "\n",
        "# Send chat completion request\n",
        "response = client.chat.completions.create(\n",
        "    model=\"gpt-3.5-turbo\",\n",
        "    messages=[\n",
        "        {\"role\": \"user\", \"content\": prompt}\n",
        "    ]\n",
        ")\n",
        "\n",
        "# Print response\n",
        "print(response.choices[0].message.content)\n"
      ],
      "metadata": {
        "colab": {
          "base_uri": "https://localhost:8080/"
        },
        "id": "0m6JaFyCW7fR",
        "outputId": "bf97b2f9-f1ba-4068-ea7c-8405ae87cd11"
      },
      "execution_count": 11,
      "outputs": [
        {
          "output_type": "stream",
          "name": "stdout",
          "text": [
            "Based on the symptoms and past medical history provided, the patient may be experiencing an asthma exacerbation or a cardiac issue such as angina or a heart attack. \n",
            "\n",
            "Given the patient's history of mild asthma, the symptoms of chest tightness and shortness of breath are concerning for an asthma exacerbation. However, the presence of an elevated heart rate could also indicate a cardiac issue. It is important to consider the patient's history of hypertension, as it is a risk factor for cardiovascular disease.\n",
            "\n",
            "I would recommend conducting a thorough physical examination, including checking the patient's oxygen saturation levels, listening to lung sounds, and monitoring their heart rate and rhythm. Additionally, an ECG may be necessary to evaluate for any cardiac abnormalities. \n",
            "\n",
            "If the symptoms are due to an asthma exacerbation, the patient may require bronchodilator therapy such as albuterol. If there is concern for a cardiac issue, the patient may need further evaluation by a cardiologist and possibly treatment such as nitroglycerin or other appropriate medications.\n",
            "\n",
            "It is important to closely monitor the patient and seek immediate medical attention if there are any signs of worsening symptoms or potential cardiac involvement. Reassurance and education on asthma management and cardiovascular health may also be beneficial in this case.\n"
          ]
        }
      ]
    }
  ],
  "metadata": {
    "colab": {
      "provenance": []
    },
    "kernelspec": {
      "display_name": "Python 3",
      "name": "python3"
    },
    "language_info": {
      "name": "python"
    }
  },
  "nbformat": 4,
  "nbformat_minor": 0
}